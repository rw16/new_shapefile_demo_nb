{
 "cells": [
  {
   "cell_type": "markdown",
   "metadata": {},
   "source": [
    "# Creating A Shapefile with ESRI ArcMap Instructions"
   ]
  },
  {
   "cell_type": "markdown",
   "metadata": {},
   "source": [
    "**Author:** Rebecca Vandewalle rcv3@illinois.edu\n",
    "<br>**Created:** 5-21-21\n",
    "\n",
    "This notebook contains instructions for how to create a shapefile. These instructions are intended for those who have access to ESRI ArcMap."
   ]
  },
  {
   "cell_type": "markdown",
   "metadata": {},
   "source": [
    "## Contents\n",
    "- [Introduction](#intro)\n",
    "- [Gather Reference Data](#gather)\n",
    "- [Open ArcMap](#open)\n",
    "- [Load the Chicago Map GeoTIFF](#load_map)\n",
    "- [Create a New Shapefile](#create_shpfile)\n",
    "- [Adding Initial Fields](#adding_initial_fields)\n",
    "- [Setting Up an Editing Layout](#setting)\n",
    "- [Adding Points](#adding)\n",
    "- [Changing the Point Symbol](#change_symbol)\n",
    "- [Editing Points](#editing)\n",
    "- [Adding and Deleting Fields in the Attribute Table](#fields_attrib)\n",
    "- [Suggestions for Creating Shapefiles](#suggestions)"
   ]
  },
  {
   "cell_type": "markdown",
   "metadata": {},
   "source": [
    "<a id=\"intro\"></a>\n",
    "## Introduction"
   ]
  },
  {
   "cell_type": "markdown",
   "metadata": {},
   "source": [
    "This notebook is intended to demonstrate how to create and edit a point shapefile using reference data from a georeferenced image. The point shapefile can then be used in maps. This demo will use ESRI ArcMap.\n",
    "\n",
    "Learning Goals:\n",
    "- Create a new shapefile and add point data\n",
    "- Edit an existing shapefile"
   ]
  },
  {
   "cell_type": "markdown",
   "metadata": {},
   "source": [
    "<a id=\"gather\"></a>\n",
    "## Gather Reference Data"
   ]
  },
  {
   "cell_type": "markdown",
   "metadata": {},
   "source": [
    "The map image we will work with is Rand McNally & Co.'s new street number guide map of Chicago (1916) from the Harvard Map Collection. The initial map image is available at Wikipedia [here](https://commons.wikimedia.org/wiki/File:1916_Chicago_map_-_South.jpg). For this tutorial we will be using an image of the map that has been georeferenced, which means that it has been saved with spatial information. The files to use, `Chicago_georef.tif`, `Chicago_georef.tfw`, `Chicago_georef.tif.aux.xml`, and `Chicago_georef.tif.ovr` are stored in the `Georef_Tiff` folder. Although the data for time image are stored in four different files (and each of these files are needed!), to ArcMap it will look like one image. \n",
    "\n",
    "<img src=\"./simg/383px_1916_Chicago_map_-_South.jpg\" alt=\"Rand McNally's 1916 Guide to Chicago Map\">"
   ]
  },
  {
   "cell_type": "markdown",
   "metadata": {},
   "source": [
    "### Prepare to work with the data"
   ]
  },
  {
   "cell_type": "markdown",
   "metadata": {},
   "source": [
    "Now that you have the data we will start working in ArcMap. If you are accessing ArcMap using a remote desktop, you will first need to transfer your files to the remote desktop."
   ]
  },
  {
   "cell_type": "markdown",
   "metadata": {},
   "source": [
    "<a id=\"open\"></a>\n",
    "## Open ArcMap"
   ]
  },
  {
   "cell_type": "markdown",
   "metadata": {},
   "source": [
    "To open ArcMap, click on the `Start Menu`, click on the `ArcGIS` folder, and then select `ArcMap 10.8`. A new ArcMap `Getting Started` window will open. Select `Blank Map`.\n",
    "\n",
    "<table>\n",
    "    <tr style=\"background-color:#FFFFFF;\">\n",
    "<td><img src=\"./simg/open arc.png\" alt=\"open arcmap\" width=150></td>\n",
    "<td>&nbsp;</td>\n",
    "<td><img src=\"./simg/new map.png\" alt=\"open a new map\" width=400></td>\n",
    "    </tr>\n",
    "</table>"
   ]
  },
  {
   "cell_type": "markdown",
   "metadata": {},
   "source": [
    "A new ArcMap project window will open:\n",
    "\n",
    "<img src=\"./gimg/blank map.png\" alt=\"initial blank map\" width=400>"
   ]
  },
  {
   "cell_type": "markdown",
   "metadata": {},
   "source": [
    "<a id=\"load_map\"></a>\n",
    "## Load the Chicago Map GeoTIFF"
   ]
  },
  {
   "cell_type": "markdown",
   "metadata": {},
   "source": [
    "First you need to add data. Select the `Add Data` button. This will open the `Add Data` window. In the `Add Data` window some folder options will be displayed, however if the folder you have stored your data in is not one of the drop down options, select the `Connect to Folder` button and then navigate to folder holding your data and select `OK`.\n",
    "\n",
    "<table>\n",
    "    <tr style=\"background-color:#FFFFFF;\">\n",
    "<td><img src=\"./simg/add data.png\" alt=\"add data\" width=200></td>\n",
    "<td>&nbsp;</td>\n",
    "<td><img src=\"./simg/folder connections.png\" alt=\"folder connections\" width=200></td>\n",
    "<td><img src=\"./simg/connect to folder old.png\" alt=\"add data drop down\" width=200></td>\n",
    "<td><img src=\"./simg/choose folder.png\" alt=\"folder connections choose folder window\" width=175></td>\n",
    "    </tr>\n",
    "</table> \n",
    "    \n",
    "After connecting to the folder with your data you will see the data files you have uploaded. Select `Chicago_georef.tif` and click `Add`.\n",
    "\n",
    "<img src=\"./simg/load geotiff.png\" alt=\"load geotiff\" width=200>"
   ]
  },
  {
   "cell_type": "markdown",
   "metadata": {},
   "source": [
    "You will now see `Chicago_georef.tif` loaded into your project. Now would be a good time to save your ArcMap file by selecting `File -> Save`.\n",
    "\n",
    "<img src=\"./simg/view geotiff.png\" alt=\"view geotiff\" width=200>\n",
    "\n",
    "In this tutorial, we will use `Chicago_georef.tif` as a reference file and add points representing park locations to a `Shapefile`, which is a file format for geographic data."
   ]
  },
  {
   "cell_type": "markdown",
   "metadata": {},
   "source": [
    "<a id=\"create_shpfile\"></a>\n",
    "## Create a New Shapefile"
   ]
  },
  {
   "cell_type": "markdown",
   "metadata": {},
   "source": [
    "To create a new `Shapefile`, first open the `Catalog` sidebar by clicking the `Catalog` button. You should see a list of folders. If you do not see the folder with your data in the list, select the `Connect to Folder` button and follow the prompts to add your folder to the list (you may have already done this in the first step). Once your data folder is visible, click the `+` on the left of the folder icon to expand the folder. You should see your Chicago map image, `Chicago_georef.tif`, in the folder.\n",
    "\n",
    "<table>\n",
    "    <tr style=\"background-color:#FFFFFF;\">\n",
    "        <td><img src=\"./simg/catalog.png\" alt=\"catalog\" width=200></td>\n",
    "        <td><img src=\"./simg/catalog sidebar unexpand.png\" alt=\"catalog sidebar unexpanded\" width=200></td>\n",
    "        <td><img src=\"./simg/connect to folder.png\" alt=\"connect to folder\" width=200></td>\n",
    "        <td><img src=\"./simg/catalog sidebar.png\" alt=\"catalog sidebar\" width=200></td>\n",
    "    </tr>\n",
    "</table>"
   ]
  },
  {
   "cell_type": "markdown",
   "metadata": {},
   "source": [
    "Next right click on the folder that you want to store your new `Shapefile` in and select `New -> Shapefile`.\n",
    "\n",
    "<img src=\"./simg/new shapefile.png\" alt=\"new shapefile\" width=300>"
   ]
  },
  {
   "cell_type": "markdown",
   "metadata": {},
   "source": [
    "A `Create New Shapefile` dialog box will appear. Type in `Chicago_parks` for the `Name` of your new `Shapefile` and make sure `Point` is selected for `Feature Type`. Next, under `Description`, select `Edit...`. The `Spatial Reference Properties` window will appear. Click on the arrow to the right of the star icon and select `Import`. In the window that opens, select `Chicago_georef.tif` to select the same spatial reference as this file and click `Add`. The coordinate system will appear under the `Favorites` folder in the `Spatial Reference Properties` window. Select `OK`. When this is finished, you will see a new `Shapefile` in your data folder called `Chicago_parks.shp`.\n",
    "\n",
    "<table>\n",
    "    <tr style=\"background-color:#FFFFFF;\">\n",
    "<td><img src=\"./simg/new shapefile window.png\" alt=\"new shapefile window\" width=200></td>\n",
    "<td><img src=\"./simg/import coordinate.png\" alt=\"import coordinate\" width=200></td>\n",
    "<td><img src=\"./simg/import coordinate 2.png\" alt=\"import coordinate 2\" width=200></td>\n",
    "<td><img src=\"./simg/after import coordinate.png\" alt=\"after import coordinate\" width=200></td>\n",
    "    </tr>\n",
    "</table>"
   ]
  },
  {
   "cell_type": "markdown",
   "metadata": {},
   "source": [
    "<a id=\"adding_initial_fields\"></a>\n",
    "## Adding Initial Fields"
   ]
  },
  {
   "cell_type": "markdown",
   "metadata": {},
   "source": [
    "Now you will add some fields to your `Shapefile` so that you can add data to the fields while creating new features. Right click `Chicago_parks.shp` and select `Properties...`. In the `Shapefile Properties` window, select the `Fields` tab.\n",
    "\n",
    "<table>\n",
    "    <tr style=\"background-color:#FFFFFF;\">\n",
    "<td><img src=\"./simg/points properties.png\" alt=\"points properties\" width=200></td>\n",
    "<td><img src=\"./simg/initial fields.png\" alt=\"initial fields\" width=200></td>\n",
    "    </tr>\n",
    "</table>"
   ]
  },
  {
   "cell_type": "markdown",
   "metadata": {},
   "source": [
    "Click in a empty cell in the `Field Name` column and type a name for the field. The field name must start with a letter and may not include most special characters. Stick with `a-z`, `A-Z`, `0-9`, `-`, and `_`. There are also restrictions on field name length, so aim for a shorter field name (aim for less than 30 characters). Once you have entered a name, click on the cell in the same row in the `Data Type` column and select the data type from the drop down box. In this example, we have added an `ID` field and a `Park_Name` field. Note that ArcMap adds two default fields, `FID` and `Shape` - do not change those. As ArcMap will manage the `FID` field, it is useful to have a separate `ID` field that you have control of for your records, especially if you will be adding, deleting, and possibly merging features.\n",
    "\n",
    "<img src=\"./simg/after adding 2.png\" alt=\"after adding 2\" width=200>"
   ]
  },
  {
   "cell_type": "markdown",
   "metadata": {},
   "source": [
    "After you have finished, your shapefile will be added to the map. Now, right click on it in the `Table of Contents` and select `Open Attribute Table`. In the `Attribute Table` you will see the fields you have added but the table will be empty because you have not yet added any features (i.e. points). Save your map.\n",
    "\n",
    "<table>\n",
    "    <tr style=\"background-color:#FFFFFF;\">\n",
    "<td><img src=\"./simg/attribute table menu.png\" alt=\"attribute table menu\" width=200></td>\n",
    "<td><img src=\"./simg/empty attribute table.png\" alt=\"empty attribute table\" width=600></td>\n",
    "    </tr>\n",
    "</table>"
   ]
  },
  {
   "cell_type": "markdown",
   "metadata": {},
   "source": [
    "<a id=\"setting\"></a>\n",
    "## Setting Up an Editing Layout"
   ]
  },
  {
   "cell_type": "markdown",
   "metadata": {},
   "source": [
    "First, the `Editor` toolbar should be visible by default. If it is not visible, select in the top menu bar `Customize -> Toolbars -> Editor`. To do any sort of editing to a `Shapefile`, including adding new features or editing existing features, you will need to be in an `Edit Session`. This signifies to ArcMap that you will be changing some part of a file. To start an `Edit Session`, click the `Editor` tab of the `Editor` toolbar and select `Start Editing`. Note that your edits will not be saved unless you select `Stop Editing, Save Edits` or `Save Edits`, and you can easily lose your work if something disrupts the program, so it is highly recommended to save often!\n",
    "\n",
    "<img src=\"./simg/start editing.png\" alt=\"start editing\" width=300>\n",
    "\n",
    "Once you have started an edit session you will need to have two side bars visible: the `Attributes` sidebar and the `Create Features` sidebar. Click on the `Attributes` and the `Create Features` buttons to open the sidebars.\n",
    "\n",
    "<table>\n",
    "    <tr style=\"background-color:#FFFFFF;\">\n",
    "<td><img src=\"./simg/attributes button.png\" alt=\"attributes button\" width=200></td>\n",
    "<td><img src=\"./simg/create features button.png\" alt=\"create features button\" width=200></td>\n",
    "    </tr>\n",
    "</table>\n",
    "\n",
    "By default, both sidebars will open on the right hand side. You can see that both are open because there are small tabs that say `Attributes` and `Create Features` on the bottom of the sidebar. For convienience when editing, however, it is preferable to see both sidebars at the same time. To do so, select one of the tabs, click and drag over the side bar until the blue docking arrows appear. Release the mouseclick on the bottom arrow within the sidebar. After that you will see both `Attributes` and `Create Features` areas on the sidebar. If you hover near the top of one of the area headers, your mouse will change to an adjust divider icon and you can click and drag to change where the starts of the areas are.\n",
    "\n",
    "<table>\n",
    "    <tr style=\"background-color:#FFFFFF;\">\n",
    "<td><img src=\"./simg/create and attrubutes.png\" alt=\"create and attributes\" width=200></td>\n",
    "<td><img src=\"./simg/moving.png\" alt=\"moving\" width=200></td>\n",
    "<td><img src=\"./simg/after move.png\" alt=\"after move\" width=200></td>\n",
    "    </tr>\n",
    "</table>"
   ]
  },
  {
   "cell_type": "markdown",
   "metadata": {},
   "source": [
    "<a id=\"adding\"></a>\n",
    "## Adding Points"
   ]
  },
  {
   "cell_type": "markdown",
   "metadata": {},
   "source": [
    "Now you can add your first point! In the `Create Features` panel, `Chicago_parks` should be selected. Select it if it is not. Then, in `Construction Tools`, make sure `Point` is selected. Now when you move your mouse over the center of the map you should see a small point following the mouse. Click on the map to add the point to that location. In this example, I added a new point near the center of Jackson Park. After you have added a point, you should see a `0` under `Chicago_parks` in the `Attributes` panel, and a pop up panel directly below with the fields you have added.\n",
    "\n",
    "<table>\n",
    "    <tr style=\"background-color:#FFFFFF;\">\n",
    "<td><img src=\"./simg/construction tools.png\" alt=\"construction tools\" width=200></td>\n",
    "<td><img src=\"./simg/adding a point.png\" alt=\"adding a point\" width=200></td>\n",
    "<td><img src=\"./simg/after add point.png\" alt=\"after add point\" width=200></td>\n",
    "      </tr>\n",
    "</table>  "
   ]
  },
  {
   "cell_type": "markdown",
   "metadata": {},
   "source": [
    "You can add data to the fields by clicking in the box to the right of the field name and typing in the new value. After you have added the name to the `Park_Name` field, the name will be displayed under `Chicago_parks` in the `Attributes` panel. I have added a second point on the map and changed the name to South Shore Country Club.\n",
    "\n",
    "<table>\n",
    "    <tr style=\"background-color:#FFFFFF;\">\n",
    "<td><img src=\"./simg/jackson park.png\" alt=\"jackson park\" width=200></td>\n",
    "<td><img src=\"./simg/south shore.png\" alt=\"south shore\" width=200></td>\n",
    "      </tr>\n",
    "</table> "
   ]
  },
  {
   "cell_type": "markdown",
   "metadata": {},
   "source": [
    "That is the basic actions needed for adding new points. You should select `Editor -> Save Edits` in the `Editor` toolbar frequently to save your edits. When you have completely finished, select `Editor -> Stop Editing` in the `Editor` toolbar. If you select `Stop Editing` without first saving your edits, you will be prompted to save before the edit session will close.\n",
    "    \n",
    "<table>\n",
    "    <tr style=\"background-color:#FFFFFF;\">\n",
    "        <td><img src=\"./simg/save edits.png\" alt=\"save edits\" width=200></td>\n",
    "        <td><img src=\"./simg/stop editing.png\" alt=\"stop editing\" width=200></td>\n",
    "        <td><img src=\"./simg/save edits box.png\" alt=\"save edits box\" width=200></td>\n",
    "    </tr>\n",
    "</table>"
   ]
  },
  {
   "cell_type": "markdown",
   "metadata": {},
   "source": [
    "Finally, you can open the `Attributes Table` and see that it has been updated with the new features you have added.\n",
    "\n",
    "<img src=\"./simg/updated attribute table.png\" alt=\"updated attribute table\" width=600>"
   ]
  },
  {
   "cell_type": "markdown",
   "metadata": {},
   "source": [
    "<a id=\"change_symbol\"></a>\n",
    "## Changing the Point Symbol"
   ]
  },
  {
   "cell_type": "markdown",
   "metadata": {},
   "source": [
    "Once you have added some points you may want to change how they are displayed to make them easier to see against the Chicago map. To do this, right click on `Chicago_parks` in the `Table of Contents` pane and select `Properties...` at the bottom of the pop up menu. This will open the `Layer Properties` window to the `General` tab. Select the `Symbology` tab. Click on the `Symbol` point in the `Symbol` box to open the `Symbol Selector` dialog box. Then you can change the color to a color that is easier to see.\n",
    "\n",
    "<table>\n",
    "    <tr style=\"background-color:#FFFFFF;\">\n",
    "<td><img src=\"./simg/layer properties.png\" alt=\"layer properties\" width=200></td>\n",
    "<td><img src=\"./simg/change symbol.png\" alt=\"change symbol\" width=300></td>\n",
    "    </tr>\n",
    "</table>"
   ]
  },
  {
   "cell_type": "markdown",
   "metadata": {},
   "source": [
    "<a id=\"editing\"></a>\n",
    "## Editing Points"
   ]
  },
  {
   "cell_type": "markdown",
   "metadata": {},
   "source": [
    "You may need to edit points, for example to change data in the fields or to change the location or delete an existing point. To do this you need to be in an edit session (`Editor -> Start Editing`). Click on the `Edit Tool`, which looks like an arrow and is located directly to the right of the `Editor` drop down. With the `Edit Tool`, you can click on a point to select it or click and drag to move it around. It will have a cyan dot in the center to show it has been selected. You can also right click on a point to open more actions (you will use this most often to delete a point).\n",
    "\n",
    "<table>\n",
    "    <tr style=\"background-color:#FFFFFF;\">\n",
    "<td><img src=\"./simg/edit tool.png\" alt=\"edit tool\" width=200></td>\n",
    "<td><img src=\"./simg/selected point.png\" alt=\"selected point\" width=200></td>\n",
    "<td><img src=\"./simg/edit feature right menu.png\" alt=\"edit feature right menu\" width=200></td>\n",
    "        </tr>\n",
    "</table>"
   ]
  },
  {
   "cell_type": "markdown",
   "metadata": {},
   "source": [
    "<a id=\"fields_attrib\"></a>\n",
    "## Adding and Deleting Fields in the Attribute Table"
   ]
  },
  {
   "cell_type": "markdown",
   "metadata": {},
   "source": [
    "Finally, you may want to add or delete fields after you have added features. You can do this in the `Attribute Table`. First right click on the `Chicago_parks.shp` in the `Table of Contents` and select `Open Attribute Table`. You must not be in an edit session to add or delete fields. To add a field, click on the `Table Options` button and select `Add Field...`. In the `Add Field` window you can add the field name, type, and any field properties. To delete a field, right click on the field name in the `Attribute Table` and select `Delete Field`. Be very certain you want to do this! You can not undo a `Delete Field` action!"
   ]
  },
  {
   "cell_type": "markdown",
   "metadata": {},
   "source": [
    "\n",
    "<table>\n",
    "    <tr style=\"background-color:#FFFFFF;\">\n",
    "        <td><img src=\"./simg/add field.png\" alt=\"add field\" width=200></td>\n",
    "        <td><img src=\"./simg/add field box.png\" alt=\"add field box\" width=200></td>\n",
    "        <td><img src=\"./simg/delete field.png\" alt=\"add field box\" width=200></td>\n",
    "    </tr>\n",
    "</table>"
   ]
  },
  {
   "cell_type": "markdown",
   "metadata": {},
   "source": [
    "<a id=\"suggestions\"></a>\n",
    "## Suggestions for Creating Shapefiles"
   ]
  },
  {
   "cell_type": "markdown",
   "metadata": {},
   "source": [
    "Finally, here are a few suggestions for creating a `Shapefile`.\n",
    "- Group `Shapefiles` by object. For example, create one `Shapefile` for parks and another separate `Shapefile` for universities.\n",
    "- Use fields to capture information that can be used to group objects within a `Shapefile`. For example, you might have one field for `Park_type` which could be `public` or `private`. You could have another field for `Established` which could contain the date each park was founded, or `Jurisdiction` which would indicate which neighborhood the park belonged to. This can be better than having separate `Shapefiles` parks in different categories."
   ]
  }
 ],
 "metadata": {
  "kernelspec": {
   "display_name": "Python 3",
   "language": "python",
   "name": "python3-0.8.0"
  },
  "language_info": {
   "codemirror_mode": {
    "name": "ipython",
    "version": 3
   },
   "file_extension": ".py",
   "mimetype": "text/x-python",
   "name": "python",
   "nbconvert_exporter": "python",
   "pygments_lexer": "ipython3",
   "version": "3.7.6"
  }
 },
 "nbformat": 4,
 "nbformat_minor": 4
}
